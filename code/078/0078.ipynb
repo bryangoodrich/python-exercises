{
 "cells": [
  {
   "cell_type": "markdown",
   "metadata": {},
   "source": [
    "# Options Chain Exploration\n",
    "\n",
    "This short review shows how we can quickly narrow down our search for potentially valuable trades with a few lines of code."
   ]
  },
  {
   "cell_type": "code",
   "execution_count": 1,
   "metadata": {},
   "outputs": [],
   "source": [
    "import numpy as np\n",
    "import yfinance as yf\n",
    "import matplotlib.pyplot as plt"
   ]
  },
  {
   "cell_type": "markdown",
   "metadata": {},
   "source": [
    "This function handles a number of things\n",
    "\n",
    "1. We pull out the 50 day moving average\n",
    "1. Filter the option for a given expiration date\n",
    "1. Keep only those put options with a strike under the 50 DMA or 5%\n",
    "1. We only want this if the put is out of the money (not above stock price)\n",
    "1. We also want to see the current spread (bid - ask of the option)\n",
    "1. We also want to look at the premium (the last traded price * 100 shares)\n",
    "1. Our target will be to make at least 75% of the premium if we make this trade"
   ]
  },
  {
   "cell_type": "code",
   "execution_count": 2,
   "metadata": {},
   "outputs": [],
   "source": [
    "def clean_puts(option, expiration):\n",
    "    moving_avg = option.info['fiftyDayAverage']\n",
    "    df = option.option_chain(expiration)\n",
    "    puts = df.puts.copy()\n",
    "    \n",
    "    is_near_moving_avg = puts['strike'] < moving_avg*1.05\n",
    "    is_in_the_money = puts['inTheMoney'] == False\n",
    "    # good_delta = puts['delta'].between(0.2, 0.4)\n",
    "    \n",
    "    puts = puts[is_near_moving_avg & is_in_the_money]\n",
    "    puts['spread'] = puts['bid'] - puts['ask']\n",
    "    puts['premium'] = puts['lastPrice'] * 100\n",
    "    puts['target'] = puts['premium'] * 0.75\n",
    "    puts = puts.sort_values('spread', ascending=False)\n",
    "    \n",
    "    projection = ['contractSymbol', 'strike', 'premium', 'target',\n",
    "        'spread', 'volume', 'openInterest']\n",
    "    return puts[projection]\n"
   ]
  },
  {
   "cell_type": "markdown",
   "metadata": {},
   "source": [
    "## Google for 1/26/2024\n",
    "\n",
    "We're going to look at the week after the 3rd Friday of the month. The 3rd Friday is when institutional traders make their transactions, but from other analysis, this day looked better (feel free to compare!). \n",
    "\n",
    "We print out the top 10 by the tightest spread. At this point, I want to know there is a good chance of transaction (tight spread) at a bargain stoke price if I get assigned, and I can compare the volume of trading with the open interest existing on this contract."
   ]
  },
  {
   "cell_type": "code",
   "execution_count": 3,
   "metadata": {},
   "outputs": [],
   "source": [
    "ticker = \"GOOGL\" \n",
    "opt = yf.Ticker(ticker)"
   ]
  },
  {
   "cell_type": "code",
   "execution_count": 4,
   "metadata": {},
   "outputs": [
    {
     "data": {
      "text/html": [
       "<div>\n",
       "<style scoped>\n",
       "    .dataframe tbody tr th:only-of-type {\n",
       "        vertical-align: middle;\n",
       "    }\n",
       "\n",
       "    .dataframe tbody tr th {\n",
       "        vertical-align: top;\n",
       "    }\n",
       "\n",
       "    .dataframe thead th {\n",
       "        text-align: right;\n",
       "    }\n",
       "</style>\n",
       "<table border=\"1\" class=\"dataframe\">\n",
       "  <thead>\n",
       "    <tr style=\"text-align: right;\">\n",
       "      <th></th>\n",
       "      <th>contractSymbol</th>\n",
       "      <th>strike</th>\n",
       "      <th>premium</th>\n",
       "      <th>target</th>\n",
       "      <th>spread</th>\n",
       "      <th>volume</th>\n",
       "      <th>openInterest</th>\n",
       "    </tr>\n",
       "  </thead>\n",
       "  <tbody>\n",
       "    <tr>\n",
       "      <th>15</th>\n",
       "      <td>GOOGL240126P00122000</td>\n",
       "      <td>122.0</td>\n",
       "      <td>28.0</td>\n",
       "      <td>21.00</td>\n",
       "      <td>-0.02</td>\n",
       "      <td>12.0</td>\n",
       "      <td>67</td>\n",
       "    </tr>\n",
       "    <tr>\n",
       "      <th>16</th>\n",
       "      <td>GOOGL240126P00123000</td>\n",
       "      <td>123.0</td>\n",
       "      <td>48.0</td>\n",
       "      <td>36.00</td>\n",
       "      <td>-0.03</td>\n",
       "      <td>3.0</td>\n",
       "      <td>140</td>\n",
       "    </tr>\n",
       "    <tr>\n",
       "      <th>8</th>\n",
       "      <td>GOOGL240126P00115000</td>\n",
       "      <td>115.0</td>\n",
       "      <td>12.0</td>\n",
       "      <td>9.00</td>\n",
       "      <td>-0.03</td>\n",
       "      <td>23.0</td>\n",
       "      <td>67</td>\n",
       "    </tr>\n",
       "    <tr>\n",
       "      <th>23</th>\n",
       "      <td>GOOGL240126P00130000</td>\n",
       "      <td>130.0</td>\n",
       "      <td>80.0</td>\n",
       "      <td>60.00</td>\n",
       "      <td>-0.03</td>\n",
       "      <td>56.0</td>\n",
       "      <td>362</td>\n",
       "    </tr>\n",
       "    <tr>\n",
       "      <th>18</th>\n",
       "      <td>GOOGL240126P00125000</td>\n",
       "      <td>125.0</td>\n",
       "      <td>38.0</td>\n",
       "      <td>28.50</td>\n",
       "      <td>-0.03</td>\n",
       "      <td>31.0</td>\n",
       "      <td>245</td>\n",
       "    </tr>\n",
       "    <tr>\n",
       "      <th>21</th>\n",
       "      <td>GOOGL240126P00128000</td>\n",
       "      <td>128.0</td>\n",
       "      <td>61.0</td>\n",
       "      <td>45.75</td>\n",
       "      <td>-0.04</td>\n",
       "      <td>6.0</td>\n",
       "      <td>218</td>\n",
       "    </tr>\n",
       "    <tr>\n",
       "      <th>20</th>\n",
       "      <td>GOOGL240126P00127000</td>\n",
       "      <td>127.0</td>\n",
       "      <td>50.0</td>\n",
       "      <td>37.50</td>\n",
       "      <td>-0.04</td>\n",
       "      <td>12.0</td>\n",
       "      <td>215</td>\n",
       "    </tr>\n",
       "    <tr>\n",
       "      <th>19</th>\n",
       "      <td>GOOGL240126P00126000</td>\n",
       "      <td>126.0</td>\n",
       "      <td>43.0</td>\n",
       "      <td>32.25</td>\n",
       "      <td>-0.04</td>\n",
       "      <td>43.0</td>\n",
       "      <td>102</td>\n",
       "    </tr>\n",
       "    <tr>\n",
       "      <th>11</th>\n",
       "      <td>GOOGL240126P00118000</td>\n",
       "      <td>118.0</td>\n",
       "      <td>25.0</td>\n",
       "      <td>18.75</td>\n",
       "      <td>-0.04</td>\n",
       "      <td>21.0</td>\n",
       "      <td>32</td>\n",
       "    </tr>\n",
       "    <tr>\n",
       "      <th>5</th>\n",
       "      <td>GOOGL240126P00100000</td>\n",
       "      <td>100.0</td>\n",
       "      <td>5.0</td>\n",
       "      <td>3.75</td>\n",
       "      <td>-0.04</td>\n",
       "      <td>1.0</td>\n",
       "      <td>82</td>\n",
       "    </tr>\n",
       "  </tbody>\n",
       "</table>\n",
       "</div>"
      ],
      "text/plain": [
       "          contractSymbol  strike  premium  target  spread  volume  \\\n",
       "15  GOOGL240126P00122000   122.0     28.0   21.00   -0.02    12.0   \n",
       "16  GOOGL240126P00123000   123.0     48.0   36.00   -0.03     3.0   \n",
       "8   GOOGL240126P00115000   115.0     12.0    9.00   -0.03    23.0   \n",
       "23  GOOGL240126P00130000   130.0     80.0   60.00   -0.03    56.0   \n",
       "18  GOOGL240126P00125000   125.0     38.0   28.50   -0.03    31.0   \n",
       "21  GOOGL240126P00128000   128.0     61.0   45.75   -0.04     6.0   \n",
       "20  GOOGL240126P00127000   127.0     50.0   37.50   -0.04    12.0   \n",
       "19  GOOGL240126P00126000   126.0     43.0   32.25   -0.04    43.0   \n",
       "11  GOOGL240126P00118000   118.0     25.0   18.75   -0.04    21.0   \n",
       "5   GOOGL240126P00100000   100.0      5.0    3.75   -0.04     1.0   \n",
       "\n",
       "    openInterest  \n",
       "15            67  \n",
       "16           140  \n",
       "8             67  \n",
       "23           362  \n",
       "18           245  \n",
       "21           218  \n",
       "20           215  \n",
       "19           102  \n",
       "11            32  \n",
       "5             82  "
      ]
     },
     "execution_count": 4,
     "metadata": {},
     "output_type": "execute_result"
    }
   ],
   "source": [
    "df = clean_puts(opt, '2024-01-26')\n",
    "df.head(10)"
   ]
  },
  {
   "cell_type": "markdown",
   "metadata": {},
   "source": [
    "## Visualization\n",
    "\n",
    "Here I want to visualize what was looked at above. I'll plot for each strike price the volume. The larger the bar, the more transactions at that strike price. But I'm also interested in my premium. This is printed on the end of the bar, and is basically monotonically decreasing, but we can compare whether a given return will be a big change from the strike price near it and how the volume is trading at that point."
   ]
  },
  {
   "cell_type": "code",
   "execution_count": 23,
   "metadata": {},
   "outputs": [
    {
     "data": {
      "image/png": "[encoded data removed]",
      "text/plain": [
       "<Figure size 800x1200 with 1 Axes>"
      ]
     },
     "metadata": {},
     "output_type": "display_data"
    }
   ],
   "source": [
    "fig, ax = plt.subplots(figsize=(8, 12))\n",
    "puts = df[df['strike']>=115].sort_values(\"strike\")\n",
    "\n",
    "ax.barh(puts['strike'], puts['volume'], color='g', alpha=0.5)\n",
    "x = 5\n",
    "for index, row in puts.iterrows():\n",
    "    y = row['strike']\n",
    "    label = f\"{row['premium']:.0f}\"\n",
    "    ax.text(row['volume'], y, label, va='center')\n",
    "\n",
    "ax.set_xlabel('Volume')\n",
    "ax.set_title('Put Volume by Strike Price + Premium')\n",
    "\n",
    "plt.show()"
   ]
  },
  {
   "cell_type": "markdown",
   "metadata": {},
   "source": [
    "At this point, a rough but quick snapshot of why we might enter one of these trades is here. I might even aim for selling the 134 strike. More volume than the 133 and much more premium than the 132, which the 50 DMA is around 133 right now. I might even entertain the 135, once I look at the greeks (delta around 30%, ideally).\n",
    "\n",
    "More work would include looking at changing trends in the underlying stock, comparing different expirations, and tracking the value of any given strike price to see how it's been changing. "
   ]
  }
 ],
 "metadata": {
  "kernelspec": {
   "display_name": "Python 3",
   "language": "python",
   "name": "python3"
  },
  "language_info": {
   "codemirror_mode": {
    "name": "ipython",
    "version": 3
   },
   "file_extension": ".py",
   "mimetype": "text/x-python",
   "name": "python",
   "nbconvert_exporter": "python",
   "pygments_lexer": "ipython3",
   "version": "3.10.8"
  }
 },
 "nbformat": 4,
 "nbformat_minor": 2
}
